{
  "nbformat": 4,
  "nbformat_minor": 0,
  "metadata": {
    "colab": {
      "provenance": []
    },
    "kernelspec": {
      "name": "python3",
      "display_name": "Python 3"
    },
    "language_info": {
      "name": "python"
    }
  },
  "cells": [
    {
      "cell_type": "code",
      "execution_count": 1,
      "metadata": {
        "id": "QP_sQZ7i_23z"
      },
      "outputs": [],
      "source": [
        "import pandas as pd\n",
        "import numpy as np\n",
        "import ast"
      ]
    },
    {
      "cell_type": "code",
      "source": [
        "#mouting google drive to the colab ws\n",
        "from google.colab import drive\n",
        "\n",
        "drive.mount('/content/drive/')"
      ],
      "metadata": {
        "colab": {
          "base_uri": "https://localhost:8080/"
        },
        "id": "ISksmfUyAB_v",
        "outputId": "e0efe186-fd58-4606-bb21-004565913b3c"
      },
      "execution_count": 2,
      "outputs": [
        {
          "output_type": "stream",
          "name": "stdout",
          "text": [
            "Mounted at /content/drive/\n"
          ]
        }
      ]
    },
    {
      "cell_type": "code",
      "source": [
        "!unzip '/content/drive/MyDrive/Learning from Networks Project/archive.zip' #unzip the data folder"
      ],
      "metadata": {
        "colab": {
          "base_uri": "https://localhost:8080/"
        },
        "id": "XdN-kesoACB3",
        "outputId": "1a9ef498-a034-4b01-e08a-22f70f753564"
      },
      "execution_count": 3,
      "outputs": [
        {
          "output_type": "stream",
          "name": "stdout",
          "text": [
            "Archive:  /content/drive/MyDrive/Learning from Networks Project/archive.zip\n",
            "   creating: archive/\n",
            "  inflating: __MACOSX/._archive      \n",
            "  inflating: archive/links_small.csv  \n",
            "  inflating: __MACOSX/archive/._links_small.csv  \n",
            "  inflating: archive/links.csv       \n",
            "  inflating: __MACOSX/archive/._links.csv  \n",
            "  inflating: archive/credits.csv     \n",
            "  inflating: __MACOSX/archive/._credits.csv  \n",
            "  inflating: archive/movies_metadata.csv  \n",
            "  inflating: __MACOSX/archive/._movies_metadata.csv  \n",
            "  inflating: archive/ratings.csv     \n",
            "  inflating: __MACOSX/archive/._ratings.csv  \n",
            "  inflating: archive/ratings_small.csv  \n",
            "  inflating: __MACOSX/archive/._ratings_small.csv  \n",
            "  inflating: archive/keywords.csv    \n",
            "  inflating: __MACOSX/archive/._keywords.csv  \n"
          ]
        }
      ]
    },
    {
      "cell_type": "code",
      "source": [
        "%cd /content/archive/"
      ],
      "metadata": {
        "colab": {
          "base_uri": "https://localhost:8080/"
        },
        "id": "rXKMhD6GACEN",
        "outputId": "d77eeaff-4187-4614-93c4-ed71da96da3d"
      },
      "execution_count": 4,
      "outputs": [
        {
          "output_type": "stream",
          "name": "stdout",
          "text": [
            "/content/archive\n"
          ]
        }
      ]
    },
    {
      "cell_type": "code",
      "source": [
        "movies_metadata = pd.read_csv(\"movies_metadata.csv\") #ids are str\n",
        "movies_metadata = movies_metadata.drop(\n",
        "    ['adult', 'belongs_to_collection', 'budget', 'genres', 'homepage', 'imdb_id', 'original_language', 'overview',\n",
        "     'popularity', 'poster_path', 'production_companies', 'production_countries', 'release_date', 'runtime',\n",
        "     'spoken_languages', 'status', 'tagline', 'title', 'video', 'vote_average', 'vote_count'], axis=1)\n",
        "credits_metadata = pd.read_csv(\"credits.csv\")\n",
        "credits_metadata = credits_metadata.drop(['crew'], axis=1) #ids are int\n",
        "credits_metadata.id=credits_metadata.id.astype(str) #equalizing id types for merging two table according to the ids\n",
        "merged_df = pd.merge(movies_metadata, credits_metadata, on=\"id\") #merge dataframes on ids\n",
        "merged_df=merged_df.dropna().reset_index()  #deleting rows which contains empty cells, and then indexing lines again\n",
        "\n",
        "#deleting lines which contains less than 3 actors in the movie because we are analysing top three actors for each movie or show\n",
        "for i in range(len(merged_df)):\n",
        "     if len(ast.literal_eval(merged_df[\"cast\"][i]))<3:\n",
        "         merged_df.drop(index=i, inplace=True)\n",
        "\n",
        "merged_df=merged_df.reset_index()"
      ],
      "metadata": {
        "colab": {
          "base_uri": "https://localhost:8080/"
        },
        "id": "sJ5Ovv0zACGU",
        "outputId": "7d2465b7-1dd9-4278-f2d8-950444ac9821"
      },
      "execution_count": 5,
      "outputs": [
        {
          "output_type": "stream",
          "name": "stderr",
          "text": [
            "/usr/local/lib/python3.8/dist-packages/IPython/core/interactiveshell.py:3326: DtypeWarning: Columns (10) have mixed types.Specify dtype option on import or set low_memory=False.\n",
            "  exec(code_obj, self.user_global_ns, self.user_ns)\n"
          ]
        }
      ]
    },
    {
      "cell_type": "code",
      "source": [
        "#adding new columns for 3 stars of each movie or show and adding to our dataframe \n",
        "star1L,star2L,star3L=[],[],[]\n",
        "for i in range(len(merged_df)):\n",
        "    cast = ast.literal_eval(merged_df[\"cast\"][i])\n",
        "    star1L.append(cast[0][\"name\"])\n",
        "    star2L.append(cast[1][\"name\"])\n",
        "    star3L.append(cast[2][\"name\"])\n",
        "\n",
        "finalDf=merged_df.assign(firstStar=star1L,secondStar=star2L,thirdStar=star3L)"
      ],
      "metadata": {
        "id": "z4bL4h5FFLIx"
      },
      "execution_count": 17,
      "outputs": []
    },
    {
      "cell_type": "code",
      "source": [
        "finalDf.drop([\"level_0\",\"index\"], axis=1) #deleting index and the label because these columns are unnecessary"
      ],
      "metadata": {
        "colab": {
          "base_uri": "https://localhost:8080/",
          "height": 419
        },
        "id": "ISAt_Dq2FZg1",
        "outputId": "6cd60318-d8db-46f1-a4be-05f77f8e91f0"
      },
      "execution_count": 16,
      "outputs": [
        {
          "output_type": "execute_result",
          "data": {
            "text/plain": [
              "           id               original_title      revenue  \\\n",
              "0         862                    Toy Story  373554033.0   \n",
              "1        8844                      Jumanji  262797249.0   \n",
              "2       15602             Grumpier Old Men          0.0   \n",
              "3       31357            Waiting to Exhale   81452156.0   \n",
              "4       11862  Father of the Bride Part II   76578911.0   \n",
              "...       ...                          ...          ...   \n",
              "40866   30840                   Robin Hood          0.0   \n",
              "40867  439050                      رگ خواب          0.0   \n",
              "40868  111109          Siglo ng Pagluluwal          0.0   \n",
              "40869   67758                     Betrayal          0.0   \n",
              "40870  227506          Satana likuyushchiy          0.0   \n",
              "\n",
              "                                                    cast         firstStar  \\\n",
              "0      [{'cast_id': 14, 'character': 'Woody (voice)',...         Tom Hanks   \n",
              "1      [{'cast_id': 1, 'character': 'Alan Parrish', '...    Robin Williams   \n",
              "2      [{'cast_id': 2, 'character': 'Max Goldman', 'c...    Walter Matthau   \n",
              "3      [{'cast_id': 1, 'character': \"Savannah 'Vannah...   Whitney Houston   \n",
              "4      [{'cast_id': 1, 'character': 'George Banks', '...      Steve Martin   \n",
              "...                                                  ...               ...   \n",
              "40866  [{'cast_id': 1, 'character': 'Sir Robert Hode'...    Patrick Bergin   \n",
              "40867  [{'cast_id': 0, 'character': '', 'credit_id': ...      Leila Hatami   \n",
              "40868  [{'cast_id': 1002, 'character': 'Sister Angela...      Angel Aquino   \n",
              "40869  [{'cast_id': 6, 'character': 'Emily Shaw', 'cr...     Erika Eleniak   \n",
              "40870  [{'cast_id': 2, 'character': '', 'credit_id': ...  Iwan Mosschuchin   \n",
              "\n",
              "              secondStar        thirdStar  \n",
              "0              Tim Allen      Don Rickles  \n",
              "1          Jonathan Hyde    Kirsten Dunst  \n",
              "2            Jack Lemmon      Ann-Margret  \n",
              "3         Angela Bassett   Loretta Devine  \n",
              "4           Diane Keaton     Martin Short  \n",
              "...                  ...              ...  \n",
              "40866        Uma Thurman  David Morrissey  \n",
              "40867     Kourosh Tahami      Elham Korda  \n",
              "40868        Perry Dizon    Hazel Orencio  \n",
              "40869       Adam Baldwin    Julie du Page  \n",
              "40870  Nathalie Lissenko     Pavel Pavlov  \n",
              "\n",
              "[40871 rows x 7 columns]"
            ],
            "text/html": [
              "\n",
              "  <div id=\"df-42c3dfa2-fe5f-42d8-b110-c63cb695f28c\">\n",
              "    <div class=\"colab-df-container\">\n",
              "      <div>\n",
              "<style scoped>\n",
              "    .dataframe tbody tr th:only-of-type {\n",
              "        vertical-align: middle;\n",
              "    }\n",
              "\n",
              "    .dataframe tbody tr th {\n",
              "        vertical-align: top;\n",
              "    }\n",
              "\n",
              "    .dataframe thead th {\n",
              "        text-align: right;\n",
              "    }\n",
              "</style>\n",
              "<table border=\"1\" class=\"dataframe\">\n",
              "  <thead>\n",
              "    <tr style=\"text-align: right;\">\n",
              "      <th></th>\n",
              "      <th>id</th>\n",
              "      <th>original_title</th>\n",
              "      <th>revenue</th>\n",
              "      <th>cast</th>\n",
              "      <th>firstStar</th>\n",
              "      <th>secondStar</th>\n",
              "      <th>thirdStar</th>\n",
              "    </tr>\n",
              "  </thead>\n",
              "  <tbody>\n",
              "    <tr>\n",
              "      <th>0</th>\n",
              "      <td>862</td>\n",
              "      <td>Toy Story</td>\n",
              "      <td>373554033.0</td>\n",
              "      <td>[{'cast_id': 14, 'character': 'Woody (voice)',...</td>\n",
              "      <td>Tom Hanks</td>\n",
              "      <td>Tim Allen</td>\n",
              "      <td>Don Rickles</td>\n",
              "    </tr>\n",
              "    <tr>\n",
              "      <th>1</th>\n",
              "      <td>8844</td>\n",
              "      <td>Jumanji</td>\n",
              "      <td>262797249.0</td>\n",
              "      <td>[{'cast_id': 1, 'character': 'Alan Parrish', '...</td>\n",
              "      <td>Robin Williams</td>\n",
              "      <td>Jonathan Hyde</td>\n",
              "      <td>Kirsten Dunst</td>\n",
              "    </tr>\n",
              "    <tr>\n",
              "      <th>2</th>\n",
              "      <td>15602</td>\n",
              "      <td>Grumpier Old Men</td>\n",
              "      <td>0.0</td>\n",
              "      <td>[{'cast_id': 2, 'character': 'Max Goldman', 'c...</td>\n",
              "      <td>Walter Matthau</td>\n",
              "      <td>Jack Lemmon</td>\n",
              "      <td>Ann-Margret</td>\n",
              "    </tr>\n",
              "    <tr>\n",
              "      <th>3</th>\n",
              "      <td>31357</td>\n",
              "      <td>Waiting to Exhale</td>\n",
              "      <td>81452156.0</td>\n",
              "      <td>[{'cast_id': 1, 'character': \"Savannah 'Vannah...</td>\n",
              "      <td>Whitney Houston</td>\n",
              "      <td>Angela Bassett</td>\n",
              "      <td>Loretta Devine</td>\n",
              "    </tr>\n",
              "    <tr>\n",
              "      <th>4</th>\n",
              "      <td>11862</td>\n",
              "      <td>Father of the Bride Part II</td>\n",
              "      <td>76578911.0</td>\n",
              "      <td>[{'cast_id': 1, 'character': 'George Banks', '...</td>\n",
              "      <td>Steve Martin</td>\n",
              "      <td>Diane Keaton</td>\n",
              "      <td>Martin Short</td>\n",
              "    </tr>\n",
              "    <tr>\n",
              "      <th>...</th>\n",
              "      <td>...</td>\n",
              "      <td>...</td>\n",
              "      <td>...</td>\n",
              "      <td>...</td>\n",
              "      <td>...</td>\n",
              "      <td>...</td>\n",
              "      <td>...</td>\n",
              "    </tr>\n",
              "    <tr>\n",
              "      <th>40866</th>\n",
              "      <td>30840</td>\n",
              "      <td>Robin Hood</td>\n",
              "      <td>0.0</td>\n",
              "      <td>[{'cast_id': 1, 'character': 'Sir Robert Hode'...</td>\n",
              "      <td>Patrick Bergin</td>\n",
              "      <td>Uma Thurman</td>\n",
              "      <td>David Morrissey</td>\n",
              "    </tr>\n",
              "    <tr>\n",
              "      <th>40867</th>\n",
              "      <td>439050</td>\n",
              "      <td>رگ خواب</td>\n",
              "      <td>0.0</td>\n",
              "      <td>[{'cast_id': 0, 'character': '', 'credit_id': ...</td>\n",
              "      <td>Leila Hatami</td>\n",
              "      <td>Kourosh Tahami</td>\n",
              "      <td>Elham Korda</td>\n",
              "    </tr>\n",
              "    <tr>\n",
              "      <th>40868</th>\n",
              "      <td>111109</td>\n",
              "      <td>Siglo ng Pagluluwal</td>\n",
              "      <td>0.0</td>\n",
              "      <td>[{'cast_id': 1002, 'character': 'Sister Angela...</td>\n",
              "      <td>Angel Aquino</td>\n",
              "      <td>Perry Dizon</td>\n",
              "      <td>Hazel Orencio</td>\n",
              "    </tr>\n",
              "    <tr>\n",
              "      <th>40869</th>\n",
              "      <td>67758</td>\n",
              "      <td>Betrayal</td>\n",
              "      <td>0.0</td>\n",
              "      <td>[{'cast_id': 6, 'character': 'Emily Shaw', 'cr...</td>\n",
              "      <td>Erika Eleniak</td>\n",
              "      <td>Adam Baldwin</td>\n",
              "      <td>Julie du Page</td>\n",
              "    </tr>\n",
              "    <tr>\n",
              "      <th>40870</th>\n",
              "      <td>227506</td>\n",
              "      <td>Satana likuyushchiy</td>\n",
              "      <td>0.0</td>\n",
              "      <td>[{'cast_id': 2, 'character': '', 'credit_id': ...</td>\n",
              "      <td>Iwan Mosschuchin</td>\n",
              "      <td>Nathalie Lissenko</td>\n",
              "      <td>Pavel Pavlov</td>\n",
              "    </tr>\n",
              "  </tbody>\n",
              "</table>\n",
              "<p>40871 rows × 7 columns</p>\n",
              "</div>\n",
              "      <button class=\"colab-df-convert\" onclick=\"convertToInteractive('df-42c3dfa2-fe5f-42d8-b110-c63cb695f28c')\"\n",
              "              title=\"Convert this dataframe to an interactive table.\"\n",
              "              style=\"display:none;\">\n",
              "        \n",
              "  <svg xmlns=\"http://www.w3.org/2000/svg\" height=\"24px\"viewBox=\"0 0 24 24\"\n",
              "       width=\"24px\">\n",
              "    <path d=\"M0 0h24v24H0V0z\" fill=\"none\"/>\n",
              "    <path d=\"M18.56 5.44l.94 2.06.94-2.06 2.06-.94-2.06-.94-.94-2.06-.94 2.06-2.06.94zm-11 1L8.5 8.5l.94-2.06 2.06-.94-2.06-.94L8.5 2.5l-.94 2.06-2.06.94zm10 10l.94 2.06.94-2.06 2.06-.94-2.06-.94-.94-2.06-.94 2.06-2.06.94z\"/><path d=\"M17.41 7.96l-1.37-1.37c-.4-.4-.92-.59-1.43-.59-.52 0-1.04.2-1.43.59L10.3 9.45l-7.72 7.72c-.78.78-.78 2.05 0 2.83L4 21.41c.39.39.9.59 1.41.59.51 0 1.02-.2 1.41-.59l7.78-7.78 2.81-2.81c.8-.78.8-2.07 0-2.86zM5.41 20L4 18.59l7.72-7.72 1.47 1.35L5.41 20z\"/>\n",
              "  </svg>\n",
              "      </button>\n",
              "      \n",
              "  <style>\n",
              "    .colab-df-container {\n",
              "      display:flex;\n",
              "      flex-wrap:wrap;\n",
              "      gap: 12px;\n",
              "    }\n",
              "\n",
              "    .colab-df-convert {\n",
              "      background-color: #E8F0FE;\n",
              "      border: none;\n",
              "      border-radius: 50%;\n",
              "      cursor: pointer;\n",
              "      display: none;\n",
              "      fill: #1967D2;\n",
              "      height: 32px;\n",
              "      padding: 0 0 0 0;\n",
              "      width: 32px;\n",
              "    }\n",
              "\n",
              "    .colab-df-convert:hover {\n",
              "      background-color: #E2EBFA;\n",
              "      box-shadow: 0px 1px 2px rgba(60, 64, 67, 0.3), 0px 1px 3px 1px rgba(60, 64, 67, 0.15);\n",
              "      fill: #174EA6;\n",
              "    }\n",
              "\n",
              "    [theme=dark] .colab-df-convert {\n",
              "      background-color: #3B4455;\n",
              "      fill: #D2E3FC;\n",
              "    }\n",
              "\n",
              "    [theme=dark] .colab-df-convert:hover {\n",
              "      background-color: #434B5C;\n",
              "      box-shadow: 0px 1px 3px 1px rgba(0, 0, 0, 0.15);\n",
              "      filter: drop-shadow(0px 1px 2px rgba(0, 0, 0, 0.3));\n",
              "      fill: #FFFFFF;\n",
              "    }\n",
              "  </style>\n",
              "\n",
              "      <script>\n",
              "        const buttonEl =\n",
              "          document.querySelector('#df-42c3dfa2-fe5f-42d8-b110-c63cb695f28c button.colab-df-convert');\n",
              "        buttonEl.style.display =\n",
              "          google.colab.kernel.accessAllowed ? 'block' : 'none';\n",
              "\n",
              "        async function convertToInteractive(key) {\n",
              "          const element = document.querySelector('#df-42c3dfa2-fe5f-42d8-b110-c63cb695f28c');\n",
              "          const dataTable =\n",
              "            await google.colab.kernel.invokeFunction('convertToInteractive',\n",
              "                                                     [key], {});\n",
              "          if (!dataTable) return;\n",
              "\n",
              "          const docLinkHtml = 'Like what you see? Visit the ' +\n",
              "            '<a target=\"_blank\" href=https://colab.research.google.com/notebooks/data_table.ipynb>data table notebook</a>'\n",
              "            + ' to learn more about interactive tables.';\n",
              "          element.innerHTML = '';\n",
              "          dataTable['output_type'] = 'display_data';\n",
              "          await google.colab.output.renderOutput(dataTable, element);\n",
              "          const docLink = document.createElement('div');\n",
              "          docLink.innerHTML = docLinkHtml;\n",
              "          element.appendChild(docLink);\n",
              "        }\n",
              "      </script>\n",
              "    </div>\n",
              "  </div>\n",
              "  "
            ]
          },
          "metadata": {},
          "execution_count": 16
        }
      ]
    },
    {
      "cell_type": "code",
      "source": [
        "%cd /content"
      ],
      "metadata": {
        "colab": {
          "base_uri": "https://localhost:8080/"
        },
        "id": "ynD9IUInFzkv",
        "outputId": "1b8d14d2-9338-4d90-a85c-3f4bd4760c4b"
      },
      "execution_count": 13,
      "outputs": [
        {
          "output_type": "stream",
          "name": "stdout",
          "text": [
            "/content\n"
          ]
        }
      ]
    },
    {
      "cell_type": "code",
      "source": [
        "#final data will be used for analysing if the starts acting in a movie effect to gross or not \n",
        "path = '/content/drive/MyDrive/Learning from Networks Project/data.csv'\n",
        "with open(path, 'w', encoding = 'utf-8-sig') as f:\n",
        "  finalDf.to_csv(f)"
      ],
      "metadata": {
        "id": "XTy0xcc7Fsip"
      },
      "execution_count": 18,
      "outputs": []
    }
  ]
}
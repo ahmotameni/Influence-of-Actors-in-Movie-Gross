{
  "nbformat": 4,
  "nbformat_minor": 0,
  "metadata": {
    "colab": {
      "provenance": []
    },
    "kernelspec": {
      "name": "python3",
      "display_name": "Python 3"
    },
    "language_info": {
      "name": "python"
    },
    "gpuClass": "standard"
  },
  "cells": [
    {
      "cell_type": "code",
      "source": [
        "%pip install networkx==2.6.3"
      ],
      "metadata": {
        "colab": {
          "base_uri": "https://localhost:8080/",
          "height": 273
        },
        "id": "nO8GBs2h6pki",
        "outputId": "bdf73213-8d12-4b59-f5a8-f485e1b297eb"
      },
      "execution_count": null,
      "outputs": [
        {
          "output_type": "stream",
          "name": "stdout",
          "text": [
            "Looking in indexes: https://pypi.org/simple, https://us-python.pkg.dev/colab-wheels/public/simple/\n",
            "Collecting networkx==2.6.3\n",
            "  Downloading networkx-2.6.3-py3-none-any.whl (1.9 MB)\n",
            "\u001b[2K     \u001b[90m━━━━━━━━━━━━━━━━━━━━━━━━━━━━━━━━━━━━━━━━\u001b[0m \u001b[32m1.9/1.9 MB\u001b[0m \u001b[31m26.4 MB/s\u001b[0m eta \u001b[36m0:00:00\u001b[0m\n",
            "\u001b[?25hInstalling collected packages: networkx\n",
            "  Attempting uninstall: networkx\n",
            "    Found existing installation: networkx 3.0\n",
            "    Uninstalling networkx-3.0:\n",
            "      Successfully uninstalled networkx-3.0\n",
            "Successfully installed networkx-2.6.3\n"
          ]
        },
        {
          "output_type": "display_data",
          "data": {
            "application/vnd.colab-display-data+json": {
              "pip_warning": {
                "packages": [
                  "networkx"
                ]
              }
            }
          },
          "metadata": {}
        }
      ]
    },
    {
      "cell_type": "code",
      "execution_count": null,
      "metadata": {
        "id": "9i7IhdfRnuud"
      },
      "outputs": [],
      "source": [
        "%matplotlib inline\n",
        "import matplotlib.pyplot as plt\n",
        "from itertools import combinations\n",
        "from matplotlib import pylab\n",
        "import networkx as nx\n",
        "import pandas as pd\n",
        "import numpy as np\n",
        "import io"
      ]
    },
    {
      "cell_type": "code",
      "source": [
        "!pwd"
      ],
      "metadata": {
        "colab": {
          "base_uri": "https://localhost:8080/"
        },
        "id": "dBIliBonrUXE",
        "outputId": "1c200b60-f3e6-4e62-9415-7f0dde2c2a16"
      },
      "execution_count": null,
      "outputs": [
        {
          "output_type": "stream",
          "name": "stdout",
          "text": [
            "/content\n"
          ]
        }
      ]
    },
    {
      "cell_type": "code",
      "source": [
        "#dataset we use in this project from kaggle -> https://www.kaggle.com/datasets/rounakbanik/the-movies-dataset\n",
        "from google.colab import drive\n",
        "drive.mount('/content/drive')"
      ],
      "metadata": {
        "colab": {
          "base_uri": "https://localhost:8080/"
        },
        "id": "pObL75w3X-Dz",
        "outputId": "b7c2701f-8f84-48ad-aeda-4298daf94708"
      },
      "execution_count": null,
      "outputs": [
        {
          "output_type": "stream",
          "name": "stdout",
          "text": [
            "Drive already mounted at /content/drive; to attempt to forcibly remount, call drive.mount(\"/content/drive\", force_remount=True).\n"
          ]
        }
      ]
    },
    {
      "cell_type": "code",
      "source": [
        "df = pd.read_csv('/content/drive/MyDrive/Learning from Networks Project/data.csv')"
      ],
      "metadata": {
        "id": "1Qry92nGKbSw"
      },
      "execution_count": null,
      "outputs": []
    },
    {
      "cell_type": "code",
      "source": [
        "df.head()"
      ],
      "metadata": {
        "colab": {
          "base_uri": "https://localhost:8080/",
          "height": 316
        },
        "id": "Vb6cXQElLkXs",
        "outputId": "d28b85ba-423d-406c-c9b6-41b5cef03e2a"
      },
      "execution_count": null,
      "outputs": [
        {
          "output_type": "execute_result",
          "data": {
            "text/plain": [
              "   Unnamed: 0  level_0  index     id               original_title  \\\n",
              "0           0        0      0    862                    Toy Story   \n",
              "1           1        1      1   8844                      Jumanji   \n",
              "2           2        2      2  15602             Grumpier Old Men   \n",
              "3           3        3      3  31357            Waiting to Exhale   \n",
              "4           4        4      4  11862  Father of the Bride Part II   \n",
              "\n",
              "       revenue                                               cast  \\\n",
              "0  373554033.0  [{'cast_id': 14, 'character': 'Woody (voice)',...   \n",
              "1  262797249.0  [{'cast_id': 1, 'character': 'Alan Parrish', '...   \n",
              "2          0.0  [{'cast_id': 2, 'character': 'Max Goldman', 'c...   \n",
              "3   81452156.0  [{'cast_id': 1, 'character': \"Savannah 'Vannah...   \n",
              "4   76578911.0  [{'cast_id': 1, 'character': 'George Banks', '...   \n",
              "\n",
              "         firstStar      secondStar       thirdStar  \n",
              "0        Tom Hanks       Tim Allen     Don Rickles  \n",
              "1   Robin Williams   Jonathan Hyde   Kirsten Dunst  \n",
              "2   Walter Matthau     Jack Lemmon     Ann-Margret  \n",
              "3  Whitney Houston  Angela Bassett  Loretta Devine  \n",
              "4     Steve Martin    Diane Keaton    Martin Short  "
            ],
            "text/html": [
              "\n",
              "  <div id=\"df-14f076af-948e-4c70-bff7-7d12970e5f6d\">\n",
              "    <div class=\"colab-df-container\">\n",
              "      <div>\n",
              "<style scoped>\n",
              "    .dataframe tbody tr th:only-of-type {\n",
              "        vertical-align: middle;\n",
              "    }\n",
              "\n",
              "    .dataframe tbody tr th {\n",
              "        vertical-align: top;\n",
              "    }\n",
              "\n",
              "    .dataframe thead th {\n",
              "        text-align: right;\n",
              "    }\n",
              "</style>\n",
              "<table border=\"1\" class=\"dataframe\">\n",
              "  <thead>\n",
              "    <tr style=\"text-align: right;\">\n",
              "      <th></th>\n",
              "      <th>Unnamed: 0</th>\n",
              "      <th>level_0</th>\n",
              "      <th>index</th>\n",
              "      <th>id</th>\n",
              "      <th>original_title</th>\n",
              "      <th>revenue</th>\n",
              "      <th>cast</th>\n",
              "      <th>firstStar</th>\n",
              "      <th>secondStar</th>\n",
              "      <th>thirdStar</th>\n",
              "    </tr>\n",
              "  </thead>\n",
              "  <tbody>\n",
              "    <tr>\n",
              "      <th>0</th>\n",
              "      <td>0</td>\n",
              "      <td>0</td>\n",
              "      <td>0</td>\n",
              "      <td>862</td>\n",
              "      <td>Toy Story</td>\n",
              "      <td>373554033.0</td>\n",
              "      <td>[{'cast_id': 14, 'character': 'Woody (voice)',...</td>\n",
              "      <td>Tom Hanks</td>\n",
              "      <td>Tim Allen</td>\n",
              "      <td>Don Rickles</td>\n",
              "    </tr>\n",
              "    <tr>\n",
              "      <th>1</th>\n",
              "      <td>1</td>\n",
              "      <td>1</td>\n",
              "      <td>1</td>\n",
              "      <td>8844</td>\n",
              "      <td>Jumanji</td>\n",
              "      <td>262797249.0</td>\n",
              "      <td>[{'cast_id': 1, 'character': 'Alan Parrish', '...</td>\n",
              "      <td>Robin Williams</td>\n",
              "      <td>Jonathan Hyde</td>\n",
              "      <td>Kirsten Dunst</td>\n",
              "    </tr>\n",
              "    <tr>\n",
              "      <th>2</th>\n",
              "      <td>2</td>\n",
              "      <td>2</td>\n",
              "      <td>2</td>\n",
              "      <td>15602</td>\n",
              "      <td>Grumpier Old Men</td>\n",
              "      <td>0.0</td>\n",
              "      <td>[{'cast_id': 2, 'character': 'Max Goldman', 'c...</td>\n",
              "      <td>Walter Matthau</td>\n",
              "      <td>Jack Lemmon</td>\n",
              "      <td>Ann-Margret</td>\n",
              "    </tr>\n",
              "    <tr>\n",
              "      <th>3</th>\n",
              "      <td>3</td>\n",
              "      <td>3</td>\n",
              "      <td>3</td>\n",
              "      <td>31357</td>\n",
              "      <td>Waiting to Exhale</td>\n",
              "      <td>81452156.0</td>\n",
              "      <td>[{'cast_id': 1, 'character': \"Savannah 'Vannah...</td>\n",
              "      <td>Whitney Houston</td>\n",
              "      <td>Angela Bassett</td>\n",
              "      <td>Loretta Devine</td>\n",
              "    </tr>\n",
              "    <tr>\n",
              "      <th>4</th>\n",
              "      <td>4</td>\n",
              "      <td>4</td>\n",
              "      <td>4</td>\n",
              "      <td>11862</td>\n",
              "      <td>Father of the Bride Part II</td>\n",
              "      <td>76578911.0</td>\n",
              "      <td>[{'cast_id': 1, 'character': 'George Banks', '...</td>\n",
              "      <td>Steve Martin</td>\n",
              "      <td>Diane Keaton</td>\n",
              "      <td>Martin Short</td>\n",
              "    </tr>\n",
              "  </tbody>\n",
              "</table>\n",
              "</div>\n",
              "      <button class=\"colab-df-convert\" onclick=\"convertToInteractive('df-14f076af-948e-4c70-bff7-7d12970e5f6d')\"\n",
              "              title=\"Convert this dataframe to an interactive table.\"\n",
              "              style=\"display:none;\">\n",
              "        \n",
              "  <svg xmlns=\"http://www.w3.org/2000/svg\" height=\"24px\"viewBox=\"0 0 24 24\"\n",
              "       width=\"24px\">\n",
              "    <path d=\"M0 0h24v24H0V0z\" fill=\"none\"/>\n",
              "    <path d=\"M18.56 5.44l.94 2.06.94-2.06 2.06-.94-2.06-.94-.94-2.06-.94 2.06-2.06.94zm-11 1L8.5 8.5l.94-2.06 2.06-.94-2.06-.94L8.5 2.5l-.94 2.06-2.06.94zm10 10l.94 2.06.94-2.06 2.06-.94-2.06-.94-.94-2.06-.94 2.06-2.06.94z\"/><path d=\"M17.41 7.96l-1.37-1.37c-.4-.4-.92-.59-1.43-.59-.52 0-1.04.2-1.43.59L10.3 9.45l-7.72 7.72c-.78.78-.78 2.05 0 2.83L4 21.41c.39.39.9.59 1.41.59.51 0 1.02-.2 1.41-.59l7.78-7.78 2.81-2.81c.8-.78.8-2.07 0-2.86zM5.41 20L4 18.59l7.72-7.72 1.47 1.35L5.41 20z\"/>\n",
              "  </svg>\n",
              "      </button>\n",
              "      \n",
              "  <style>\n",
              "    .colab-df-container {\n",
              "      display:flex;\n",
              "      flex-wrap:wrap;\n",
              "      gap: 12px;\n",
              "    }\n",
              "\n",
              "    .colab-df-convert {\n",
              "      background-color: #E8F0FE;\n",
              "      border: none;\n",
              "      border-radius: 50%;\n",
              "      cursor: pointer;\n",
              "      display: none;\n",
              "      fill: #1967D2;\n",
              "      height: 32px;\n",
              "      padding: 0 0 0 0;\n",
              "      width: 32px;\n",
              "    }\n",
              "\n",
              "    .colab-df-convert:hover {\n",
              "      background-color: #E2EBFA;\n",
              "      box-shadow: 0px 1px 2px rgba(60, 64, 67, 0.3), 0px 1px 3px 1px rgba(60, 64, 67, 0.15);\n",
              "      fill: #174EA6;\n",
              "    }\n",
              "\n",
              "    [theme=dark] .colab-df-convert {\n",
              "      background-color: #3B4455;\n",
              "      fill: #D2E3FC;\n",
              "    }\n",
              "\n",
              "    [theme=dark] .colab-df-convert:hover {\n",
              "      background-color: #434B5C;\n",
              "      box-shadow: 0px 1px 3px 1px rgba(0, 0, 0, 0.15);\n",
              "      filter: drop-shadow(0px 1px 2px rgba(0, 0, 0, 0.3));\n",
              "      fill: #FFFFFF;\n",
              "    }\n",
              "  </style>\n",
              "\n",
              "      <script>\n",
              "        const buttonEl =\n",
              "          document.querySelector('#df-14f076af-948e-4c70-bff7-7d12970e5f6d button.colab-df-convert');\n",
              "        buttonEl.style.display =\n",
              "          google.colab.kernel.accessAllowed ? 'block' : 'none';\n",
              "\n",
              "        async function convertToInteractive(key) {\n",
              "          const element = document.querySelector('#df-14f076af-948e-4c70-bff7-7d12970e5f6d');\n",
              "          const dataTable =\n",
              "            await google.colab.kernel.invokeFunction('convertToInteractive',\n",
              "                                                     [key], {});\n",
              "          if (!dataTable) return;\n",
              "\n",
              "          const docLinkHtml = 'Like what you see? Visit the ' +\n",
              "            '<a target=\"_blank\" href=https://colab.research.google.com/notebooks/data_table.ipynb>data table notebook</a>'\n",
              "            + ' to learn more about interactive tables.';\n",
              "          element.innerHTML = '';\n",
              "          dataTable['output_type'] = 'display_data';\n",
              "          await google.colab.output.renderOutput(dataTable, element);\n",
              "          const docLink = document.createElement('div');\n",
              "          docLink.innerHTML = docLinkHtml;\n",
              "          element.appendChild(docLink);\n",
              "        }\n",
              "      </script>\n",
              "    </div>\n",
              "  </div>\n",
              "  "
            ]
          },
          "metadata": {},
          "execution_count": 6
        }
      ]
    },
    {
      "cell_type": "code",
      "source": [
        "df=df.drop([\"Unnamed: 0\",\"level_0\",\"index\"],axis=1)"
      ],
      "metadata": {
        "id": "8rDpKcrlLUpa"
      },
      "execution_count": null,
      "outputs": []
    },
    {
      "cell_type": "code",
      "source": [
        "df.head()"
      ],
      "metadata": {
        "colab": {
          "base_uri": "https://localhost:8080/",
          "height": 204
        },
        "id": "W1PBEBsGLq_r",
        "outputId": "a478dfaa-04b5-4ba0-9a49-9666c9b4fc87"
      },
      "execution_count": null,
      "outputs": [
        {
          "output_type": "execute_result",
          "data": {
            "text/plain": [
              "      id               original_title      revenue  \\\n",
              "0    862                    Toy Story  373554033.0   \n",
              "1   8844                      Jumanji  262797249.0   \n",
              "2  15602             Grumpier Old Men          0.0   \n",
              "3  31357            Waiting to Exhale   81452156.0   \n",
              "4  11862  Father of the Bride Part II   76578911.0   \n",
              "\n",
              "                                                cast        firstStar  \\\n",
              "0  [{'cast_id': 14, 'character': 'Woody (voice)',...        Tom Hanks   \n",
              "1  [{'cast_id': 1, 'character': 'Alan Parrish', '...   Robin Williams   \n",
              "2  [{'cast_id': 2, 'character': 'Max Goldman', 'c...   Walter Matthau   \n",
              "3  [{'cast_id': 1, 'character': \"Savannah 'Vannah...  Whitney Houston   \n",
              "4  [{'cast_id': 1, 'character': 'George Banks', '...     Steve Martin   \n",
              "\n",
              "       secondStar       thirdStar  \n",
              "0       Tim Allen     Don Rickles  \n",
              "1   Jonathan Hyde   Kirsten Dunst  \n",
              "2     Jack Lemmon     Ann-Margret  \n",
              "3  Angela Bassett  Loretta Devine  \n",
              "4    Diane Keaton    Martin Short  "
            ],
            "text/html": [
              "\n",
              "  <div id=\"df-8e6bafab-5374-446d-b293-e55093d13253\">\n",
              "    <div class=\"colab-df-container\">\n",
              "      <div>\n",
              "<style scoped>\n",
              "    .dataframe tbody tr th:only-of-type {\n",
              "        vertical-align: middle;\n",
              "    }\n",
              "\n",
              "    .dataframe tbody tr th {\n",
              "        vertical-align: top;\n",
              "    }\n",
              "\n",
              "    .dataframe thead th {\n",
              "        text-align: right;\n",
              "    }\n",
              "</style>\n",
              "<table border=\"1\" class=\"dataframe\">\n",
              "  <thead>\n",
              "    <tr style=\"text-align: right;\">\n",
              "      <th></th>\n",
              "      <th>id</th>\n",
              "      <th>original_title</th>\n",
              "      <th>revenue</th>\n",
              "      <th>cast</th>\n",
              "      <th>firstStar</th>\n",
              "      <th>secondStar</th>\n",
              "      <th>thirdStar</th>\n",
              "    </tr>\n",
              "  </thead>\n",
              "  <tbody>\n",
              "    <tr>\n",
              "      <th>0</th>\n",
              "      <td>862</td>\n",
              "      <td>Toy Story</td>\n",
              "      <td>373554033.0</td>\n",
              "      <td>[{'cast_id': 14, 'character': 'Woody (voice)',...</td>\n",
              "      <td>Tom Hanks</td>\n",
              "      <td>Tim Allen</td>\n",
              "      <td>Don Rickles</td>\n",
              "    </tr>\n",
              "    <tr>\n",
              "      <th>1</th>\n",
              "      <td>8844</td>\n",
              "      <td>Jumanji</td>\n",
              "      <td>262797249.0</td>\n",
              "      <td>[{'cast_id': 1, 'character': 'Alan Parrish', '...</td>\n",
              "      <td>Robin Williams</td>\n",
              "      <td>Jonathan Hyde</td>\n",
              "      <td>Kirsten Dunst</td>\n",
              "    </tr>\n",
              "    <tr>\n",
              "      <th>2</th>\n",
              "      <td>15602</td>\n",
              "      <td>Grumpier Old Men</td>\n",
              "      <td>0.0</td>\n",
              "      <td>[{'cast_id': 2, 'character': 'Max Goldman', 'c...</td>\n",
              "      <td>Walter Matthau</td>\n",
              "      <td>Jack Lemmon</td>\n",
              "      <td>Ann-Margret</td>\n",
              "    </tr>\n",
              "    <tr>\n",
              "      <th>3</th>\n",
              "      <td>31357</td>\n",
              "      <td>Waiting to Exhale</td>\n",
              "      <td>81452156.0</td>\n",
              "      <td>[{'cast_id': 1, 'character': \"Savannah 'Vannah...</td>\n",
              "      <td>Whitney Houston</td>\n",
              "      <td>Angela Bassett</td>\n",
              "      <td>Loretta Devine</td>\n",
              "    </tr>\n",
              "    <tr>\n",
              "      <th>4</th>\n",
              "      <td>11862</td>\n",
              "      <td>Father of the Bride Part II</td>\n",
              "      <td>76578911.0</td>\n",
              "      <td>[{'cast_id': 1, 'character': 'George Banks', '...</td>\n",
              "      <td>Steve Martin</td>\n",
              "      <td>Diane Keaton</td>\n",
              "      <td>Martin Short</td>\n",
              "    </tr>\n",
              "  </tbody>\n",
              "</table>\n",
              "</div>\n",
              "      <button class=\"colab-df-convert\" onclick=\"convertToInteractive('df-8e6bafab-5374-446d-b293-e55093d13253')\"\n",
              "              title=\"Convert this dataframe to an interactive table.\"\n",
              "              style=\"display:none;\">\n",
              "        \n",
              "  <svg xmlns=\"http://www.w3.org/2000/svg\" height=\"24px\"viewBox=\"0 0 24 24\"\n",
              "       width=\"24px\">\n",
              "    <path d=\"M0 0h24v24H0V0z\" fill=\"none\"/>\n",
              "    <path d=\"M18.56 5.44l.94 2.06.94-2.06 2.06-.94-2.06-.94-.94-2.06-.94 2.06-2.06.94zm-11 1L8.5 8.5l.94-2.06 2.06-.94-2.06-.94L8.5 2.5l-.94 2.06-2.06.94zm10 10l.94 2.06.94-2.06 2.06-.94-2.06-.94-.94-2.06-.94 2.06-2.06.94z\"/><path d=\"M17.41 7.96l-1.37-1.37c-.4-.4-.92-.59-1.43-.59-.52 0-1.04.2-1.43.59L10.3 9.45l-7.72 7.72c-.78.78-.78 2.05 0 2.83L4 21.41c.39.39.9.59 1.41.59.51 0 1.02-.2 1.41-.59l7.78-7.78 2.81-2.81c.8-.78.8-2.07 0-2.86zM5.41 20L4 18.59l7.72-7.72 1.47 1.35L5.41 20z\"/>\n",
              "  </svg>\n",
              "      </button>\n",
              "      \n",
              "  <style>\n",
              "    .colab-df-container {\n",
              "      display:flex;\n",
              "      flex-wrap:wrap;\n",
              "      gap: 12px;\n",
              "    }\n",
              "\n",
              "    .colab-df-convert {\n",
              "      background-color: #E8F0FE;\n",
              "      border: none;\n",
              "      border-radius: 50%;\n",
              "      cursor: pointer;\n",
              "      display: none;\n",
              "      fill: #1967D2;\n",
              "      height: 32px;\n",
              "      padding: 0 0 0 0;\n",
              "      width: 32px;\n",
              "    }\n",
              "\n",
              "    .colab-df-convert:hover {\n",
              "      background-color: #E2EBFA;\n",
              "      box-shadow: 0px 1px 2px rgba(60, 64, 67, 0.3), 0px 1px 3px 1px rgba(60, 64, 67, 0.15);\n",
              "      fill: #174EA6;\n",
              "    }\n",
              "\n",
              "    [theme=dark] .colab-df-convert {\n",
              "      background-color: #3B4455;\n",
              "      fill: #D2E3FC;\n",
              "    }\n",
              "\n",
              "    [theme=dark] .colab-df-convert:hover {\n",
              "      background-color: #434B5C;\n",
              "      box-shadow: 0px 1px 3px 1px rgba(0, 0, 0, 0.15);\n",
              "      filter: drop-shadow(0px 1px 2px rgba(0, 0, 0, 0.3));\n",
              "      fill: #FFFFFF;\n",
              "    }\n",
              "  </style>\n",
              "\n",
              "      <script>\n",
              "        const buttonEl =\n",
              "          document.querySelector('#df-8e6bafab-5374-446d-b293-e55093d13253 button.colab-df-convert');\n",
              "        buttonEl.style.display =\n",
              "          google.colab.kernel.accessAllowed ? 'block' : 'none';\n",
              "\n",
              "        async function convertToInteractive(key) {\n",
              "          const element = document.querySelector('#df-8e6bafab-5374-446d-b293-e55093d13253');\n",
              "          const dataTable =\n",
              "            await google.colab.kernel.invokeFunction('convertToInteractive',\n",
              "                                                     [key], {});\n",
              "          if (!dataTable) return;\n",
              "\n",
              "          const docLinkHtml = 'Like what you see? Visit the ' +\n",
              "            '<a target=\"_blank\" href=https://colab.research.google.com/notebooks/data_table.ipynb>data table notebook</a>'\n",
              "            + ' to learn more about interactive tables.';\n",
              "          element.innerHTML = '';\n",
              "          dataTable['output_type'] = 'display_data';\n",
              "          await google.colab.output.renderOutput(dataTable, element);\n",
              "          const docLink = document.createElement('div');\n",
              "          docLink.innerHTML = docLinkHtml;\n",
              "          element.appendChild(docLink);\n",
              "        }\n",
              "      </script>\n",
              "    </div>\n",
              "  </div>\n",
              "  "
            ]
          },
          "metadata": {},
          "execution_count": 8
        }
      ]
    },
    {
      "cell_type": "code",
      "source": [
        "df.isnull().sum() #checking if there is any emty cells especially in gross and the actors columns"
      ],
      "metadata": {
        "id": "ElaM3I5nvb8-",
        "colab": {
          "base_uri": "https://localhost:8080/"
        },
        "outputId": "c2d7bc97-f3ed-48fa-ead7-c70aa9d4d228"
      },
      "execution_count": null,
      "outputs": [
        {
          "output_type": "execute_result",
          "data": {
            "text/plain": [
              "id                0\n",
              "original_title    0\n",
              "revenue           0\n",
              "cast              0\n",
              "firstStar         0\n",
              "secondStar        0\n",
              "thirdStar         0\n",
              "dtype: int64"
            ]
          },
          "metadata": {},
          "execution_count": 9
        }
      ]
    },
    {
      "cell_type": "code",
      "source": [
        "df.columns"
      ],
      "metadata": {
        "id": "rArnDbUI7auQ",
        "colab": {
          "base_uri": "https://localhost:8080/"
        },
        "outputId": "b4ee5589-03c0-4533-9feb-47facb3c7d77"
      },
      "execution_count": null,
      "outputs": [
        {
          "output_type": "execute_result",
          "data": {
            "text/plain": [
              "Index(['id', 'original_title', 'revenue', 'cast', 'firstStar', 'secondStar',\n",
              "       'thirdStar'],\n",
              "      dtype='object')"
            ]
          },
          "metadata": {},
          "execution_count": 10
        }
      ]
    },
    {
      "cell_type": "code",
      "source": [
        "#this function for the saving created graph\n",
        "def save_graph(graph,file_name):\n",
        "  #initialze Figure\n",
        "  plt.figure(num=None, figsize=(20, 20), dpi=80)\n",
        "  plt.axis('off')\n",
        "  fig = plt.figure(1)\n",
        "  pos = nx.shell_layout(graph)\n",
        "  nx.draw_networkx_nodes(graph,pos)\n",
        "  nx.draw_networkx_edges(graph,pos)\n",
        "  cut = 1.00\n",
        "  xmax = cut * max(xx for xx, yy in pos.values())\n",
        "  ymax = cut * max(yy for xx, yy in pos.values())\n",
        "  plt.xlim(0, xmax)\n",
        "  plt.ylim(0, ymax)\n",
        "  \n",
        "  plt.savefig(file_name,bbox_inches=\"tight\")\n",
        "  pylab.close()\n",
        "  del fig\n",
        "  \n",
        "  #Assuming that the graph g has nodes and edges entered\n",
        "  #it can also be saved in .svg, .png. or .ps formats"
      ],
      "metadata": {
        "id": "Mr6BepIa_RfK"
      },
      "execution_count": null,
      "outputs": []
    },
    {
      "cell_type": "code",
      "source": [
        "# creating empty graph\n",
        "G = nx.Graph()"
      ],
      "metadata": {
        "id": "pG-Ok3CTM2AJ"
      },
      "execution_count": null,
      "outputs": []
    },
    {
      "cell_type": "code",
      "source": [
        "# takes two parameters which are; DataFrame and graph\n",
        "#nodes are the actors and the edges represent if the actors have been in the same movie \n",
        "def createNetwork(df, G):\n",
        "    # iterating DataFrame\n",
        "    for movie in range(0, len(df)):\n",
        "        firstStar = df.loc[movie, 'firstStar']\n",
        "        secondStar = df.loc[movie, 'secondStar']\n",
        "        thirdStar = df.loc[movie, 'thirdStar']\n",
        "\n",
        "        # adding star nodes to network\n",
        "        G.add_node(firstStar)\n",
        "\n",
        "        G.add_node(secondStar)\n",
        "\n",
        "        G.add_node(thirdStar)\n",
        "\n",
        "        # getting duo combinations of stars\n",
        "        combinationsOfStars = list(combinations([firstStar, secondStar, thirdStar], 2))\n",
        "\n",
        "        # adding edge(connection) to stars which played together\n",
        "        for eachCombination in combinationsOfStars:\n",
        "            G.add_edge(eachCombination[0], eachCombination[1])\n",
        "\n",
        "    # returning final graph and final DataFrame\n",
        "    return G\n",
        "\n",
        "\n",
        "G = createNetwork(df,G)"
      ],
      "metadata": {
        "id": "hQxf-maBxdhZ"
      },
      "execution_count": null,
      "outputs": []
    },
    {
      "cell_type": "code",
      "source": [
        "G.number_of_edges()"
      ],
      "metadata": {
        "colab": {
          "base_uri": "https://localhost:8080/"
        },
        "id": "qdS14qv05Hxp",
        "outputId": "d22b9c55-8be1-4aca-f0d2-465fa13fe613"
      },
      "execution_count": null,
      "outputs": [
        {
          "output_type": "execute_result",
          "data": {
            "text/plain": [
              "115529"
            ]
          },
          "metadata": {},
          "execution_count": 14
        }
      ]
    },
    {
      "cell_type": "code",
      "source": [
        "G.number_of_nodes()"
      ],
      "metadata": {
        "id": "1jR8VXKj5N7I",
        "outputId": "179d0a95-1b50-4007-a00f-76df97ee8cc6",
        "colab": {
          "base_uri": "https://localhost:8080/"
        }
      },
      "execution_count": null,
      "outputs": [
        {
          "output_type": "execute_result",
          "data": {
            "text/plain": [
              "46039"
            ]
          },
          "metadata": {},
          "execution_count": 15
        }
      ]
    },
    {
      "cell_type": "markdown",
      "source": [
        "Centrality measures are used to determine the relative importance of nodes in a network or graph. There are several different types of centrality measures, including:\n",
        "\n",
        "*   Degree centrality: measures the number of connections a node has to other nodes in the network.\n",
        "\n",
        "*   Closeness centrality: measures the average distance of a node to all other nodes in the network. Nodes with a high closeness centrality are more connected to other nodes and are closer to the center of the network.\n",
        "\n",
        "*   Betweenness centrality: measures the number of times a node lies on the shortest path between two other nodes. Nodes with a high betweenness centrality play a central role in connecting other nodes in the network.\n",
        "\n",
        "*   Eigenvector centrality: measures the influence of a node based on the influence of its neighbors. Nodes with a high eigenvector centrality are connected to other highly influential nodes.\n",
        "\n",
        "\n",
        "*   PageRank centrality: measures the importance of a node based on the number of incoming links from other nodes and the importance of those nodes. \n",
        "\n",
        "These centrality measures provide different perspectives on the importance of nodes in a network, and can be used in various applications such as identifying key players in a social network or detecting critical nodes in a transportation network.We used the degree centrality measures to see which actors playing significant roles in the network "
      ],
      "metadata": {
        "id": "VoXBkyAUNJyB"
      }
    },
    {
      "cell_type": "code",
      "source": [
        "degreeCent=nx.degree_centrality(G) #calculating degree of centralities of each node"
      ],
      "metadata": {
        "id": "2a9QFoqmNGgr"
      },
      "execution_count": null,
      "outputs": []
    },
    {
      "cell_type": "markdown",
      "source": [],
      "metadata": {
        "id": "jwxgT48eC4hT"
      }
    },
    {
      "cell_type": "code",
      "source": [
        "#for calculating closeness centrality first we need compute the shortest path lengths between all nodes\n",
        "#shortest_paths = dict(nx.all_pairs_shortest_path_length(G))\n",
        "#closeCent={}\n",
        "#for node in G.nodes():\n",
        "#    distances = [shortest_paths[node][neighbor] for neighbor in G.nodes() if neighbor != node]\n",
        "#    closeCent[node] = sum(distances) / (len(G.nodes()) - 1)\n",
        "\n",
        "#because of the network is too large it couldnt finished before the time out of colab "
      ],
      "metadata": {
        "id": "2W7xTc7RVZTk"
      },
      "execution_count": null,
      "outputs": []
    },
    {
      "cell_type": "code",
      "source": [
        "# betCent=nx.betweenness_centrality(G)  \n",
        "#because of the network is too large it couldnt finished before the time out of colab thats why we analyze only degree centrality of the actors"
      ],
      "metadata": {
        "id": "SD50OLq153pG"
      },
      "execution_count": null,
      "outputs": []
    },
    {
      "cell_type": "code",
      "source": [
        "save_graph(G,\"graph.png\")"
      ],
      "metadata": {
        "id": "TTrA42JjA9L3"
      },
      "execution_count": null,
      "outputs": []
    },
    {
      "cell_type": "code",
      "source": [
        "#assigning new columns which contains the degree centraliry of the each actors exists in the each line\n",
        "firstStarDeg,secondStarDeg,thirdStarDeg=[],[],[]\n",
        "for i in range(len(df)):\n",
        "    firstStarDeg.append(degreeCent[df.firstStar[i]])\n",
        "    secondStarDeg.append(degreeCent[df.secondStar[i]])\n",
        "    thirdStarDeg.append(degreeCent[df.thirdStar[i]])\n",
        "\n",
        "df=df.assign(firstStarDegCent=firstStarDeg,secondStarDegCent=secondStarDeg,thirdStarDegCent=thirdStarDeg)"
      ],
      "metadata": {
        "id": "ghX-UA5JC8mT"
      },
      "execution_count": null,
      "outputs": []
    },
    {
      "cell_type": "code",
      "source": [
        "df.head()"
      ],
      "metadata": {
        "colab": {
          "base_uri": "https://localhost:8080/",
          "height": 418
        },
        "id": "khgGl_vgH1dt",
        "outputId": "da747a48-cd7e-4a7e-8431-952ede676120"
      },
      "execution_count": null,
      "outputs": [
        {
          "output_type": "execute_result",
          "data": {
            "text/plain": [
              "      id               original_title      revenue  \\\n",
              "0    862                    Toy Story  373554033.0   \n",
              "1   8844                      Jumanji  262797249.0   \n",
              "2  15602             Grumpier Old Men          0.0   \n",
              "3  31357            Waiting to Exhale   81452156.0   \n",
              "4  11862  Father of the Bride Part II   76578911.0   \n",
              "\n",
              "                                                cast        firstStar  \\\n",
              "0  [{'cast_id': 14, 'character': 'Woody (voice)',...        Tom Hanks   \n",
              "1  [{'cast_id': 1, 'character': 'Alan Parrish', '...   Robin Williams   \n",
              "2  [{'cast_id': 2, 'character': 'Max Goldman', 'c...   Walter Matthau   \n",
              "3  [{'cast_id': 1, 'character': \"Savannah 'Vannah...  Whitney Houston   \n",
              "4  [{'cast_id': 1, 'character': 'George Banks', '...     Steve Martin   \n",
              "\n",
              "       secondStar       thirdStar  firstStarDegCent  secondStarDegCent  \\\n",
              "0       Tim Allen     Don Rickles          0.002107           0.000912   \n",
              "1   Jonathan Hyde   Kirsten Dunst          0.001998           0.000130   \n",
              "2     Jack Lemmon     Ann-Margret          0.001759           0.001738   \n",
              "3  Angela Bassett  Loretta Devine          0.000261           0.000804   \n",
              "4    Diane Keaton    Martin Short          0.001477           0.001455   \n",
              "\n",
              "   thirdStarDegCent  \n",
              "0          0.000217  \n",
              "1          0.001173  \n",
              "2          0.001173  \n",
              "3          0.000369  \n",
              "4          0.000586  "
            ],
            "text/html": [
              "\n",
              "  <div id=\"df-76a4f3fd-4d86-4eeb-aab0-a275d31384f2\">\n",
              "    <div class=\"colab-df-container\">\n",
              "      <div>\n",
              "<style scoped>\n",
              "    .dataframe tbody tr th:only-of-type {\n",
              "        vertical-align: middle;\n",
              "    }\n",
              "\n",
              "    .dataframe tbody tr th {\n",
              "        vertical-align: top;\n",
              "    }\n",
              "\n",
              "    .dataframe thead th {\n",
              "        text-align: right;\n",
              "    }\n",
              "</style>\n",
              "<table border=\"1\" class=\"dataframe\">\n",
              "  <thead>\n",
              "    <tr style=\"text-align: right;\">\n",
              "      <th></th>\n",
              "      <th>id</th>\n",
              "      <th>original_title</th>\n",
              "      <th>revenue</th>\n",
              "      <th>cast</th>\n",
              "      <th>firstStar</th>\n",
              "      <th>secondStar</th>\n",
              "      <th>thirdStar</th>\n",
              "      <th>firstStarDegCent</th>\n",
              "      <th>secondStarDegCent</th>\n",
              "      <th>thirdStarDegCent</th>\n",
              "    </tr>\n",
              "  </thead>\n",
              "  <tbody>\n",
              "    <tr>\n",
              "      <th>0</th>\n",
              "      <td>862</td>\n",
              "      <td>Toy Story</td>\n",
              "      <td>373554033.0</td>\n",
              "      <td>[{'cast_id': 14, 'character': 'Woody (voice)',...</td>\n",
              "      <td>Tom Hanks</td>\n",
              "      <td>Tim Allen</td>\n",
              "      <td>Don Rickles</td>\n",
              "      <td>0.002107</td>\n",
              "      <td>0.000912</td>\n",
              "      <td>0.000217</td>\n",
              "    </tr>\n",
              "    <tr>\n",
              "      <th>1</th>\n",
              "      <td>8844</td>\n",
              "      <td>Jumanji</td>\n",
              "      <td>262797249.0</td>\n",
              "      <td>[{'cast_id': 1, 'character': 'Alan Parrish', '...</td>\n",
              "      <td>Robin Williams</td>\n",
              "      <td>Jonathan Hyde</td>\n",
              "      <td>Kirsten Dunst</td>\n",
              "      <td>0.001998</td>\n",
              "      <td>0.000130</td>\n",
              "      <td>0.001173</td>\n",
              "    </tr>\n",
              "    <tr>\n",
              "      <th>2</th>\n",
              "      <td>15602</td>\n",
              "      <td>Grumpier Old Men</td>\n",
              "      <td>0.0</td>\n",
              "      <td>[{'cast_id': 2, 'character': 'Max Goldman', 'c...</td>\n",
              "      <td>Walter Matthau</td>\n",
              "      <td>Jack Lemmon</td>\n",
              "      <td>Ann-Margret</td>\n",
              "      <td>0.001759</td>\n",
              "      <td>0.001738</td>\n",
              "      <td>0.001173</td>\n",
              "    </tr>\n",
              "    <tr>\n",
              "      <th>3</th>\n",
              "      <td>31357</td>\n",
              "      <td>Waiting to Exhale</td>\n",
              "      <td>81452156.0</td>\n",
              "      <td>[{'cast_id': 1, 'character': \"Savannah 'Vannah...</td>\n",
              "      <td>Whitney Houston</td>\n",
              "      <td>Angela Bassett</td>\n",
              "      <td>Loretta Devine</td>\n",
              "      <td>0.000261</td>\n",
              "      <td>0.000804</td>\n",
              "      <td>0.000369</td>\n",
              "    </tr>\n",
              "    <tr>\n",
              "      <th>4</th>\n",
              "      <td>11862</td>\n",
              "      <td>Father of the Bride Part II</td>\n",
              "      <td>76578911.0</td>\n",
              "      <td>[{'cast_id': 1, 'character': 'George Banks', '...</td>\n",
              "      <td>Steve Martin</td>\n",
              "      <td>Diane Keaton</td>\n",
              "      <td>Martin Short</td>\n",
              "      <td>0.001477</td>\n",
              "      <td>0.001455</td>\n",
              "      <td>0.000586</td>\n",
              "    </tr>\n",
              "  </tbody>\n",
              "</table>\n",
              "</div>\n",
              "      <button class=\"colab-df-convert\" onclick=\"convertToInteractive('df-76a4f3fd-4d86-4eeb-aab0-a275d31384f2')\"\n",
              "              title=\"Convert this dataframe to an interactive table.\"\n",
              "              style=\"display:none;\">\n",
              "        \n",
              "  <svg xmlns=\"http://www.w3.org/2000/svg\" height=\"24px\"viewBox=\"0 0 24 24\"\n",
              "       width=\"24px\">\n",
              "    <path d=\"M0 0h24v24H0V0z\" fill=\"none\"/>\n",
              "    <path d=\"M18.56 5.44l.94 2.06.94-2.06 2.06-.94-2.06-.94-.94-2.06-.94 2.06-2.06.94zm-11 1L8.5 8.5l.94-2.06 2.06-.94-2.06-.94L8.5 2.5l-.94 2.06-2.06.94zm10 10l.94 2.06.94-2.06 2.06-.94-2.06-.94-.94-2.06-.94 2.06-2.06.94z\"/><path d=\"M17.41 7.96l-1.37-1.37c-.4-.4-.92-.59-1.43-.59-.52 0-1.04.2-1.43.59L10.3 9.45l-7.72 7.72c-.78.78-.78 2.05 0 2.83L4 21.41c.39.39.9.59 1.41.59.51 0 1.02-.2 1.41-.59l7.78-7.78 2.81-2.81c.8-.78.8-2.07 0-2.86zM5.41 20L4 18.59l7.72-7.72 1.47 1.35L5.41 20z\"/>\n",
              "  </svg>\n",
              "      </button>\n",
              "      \n",
              "  <style>\n",
              "    .colab-df-container {\n",
              "      display:flex;\n",
              "      flex-wrap:wrap;\n",
              "      gap: 12px;\n",
              "    }\n",
              "\n",
              "    .colab-df-convert {\n",
              "      background-color: #E8F0FE;\n",
              "      border: none;\n",
              "      border-radius: 50%;\n",
              "      cursor: pointer;\n",
              "      display: none;\n",
              "      fill: #1967D2;\n",
              "      height: 32px;\n",
              "      padding: 0 0 0 0;\n",
              "      width: 32px;\n",
              "    }\n",
              "\n",
              "    .colab-df-convert:hover {\n",
              "      background-color: #E2EBFA;\n",
              "      box-shadow: 0px 1px 2px rgba(60, 64, 67, 0.3), 0px 1px 3px 1px rgba(60, 64, 67, 0.15);\n",
              "      fill: #174EA6;\n",
              "    }\n",
              "\n",
              "    [theme=dark] .colab-df-convert {\n",
              "      background-color: #3B4455;\n",
              "      fill: #D2E3FC;\n",
              "    }\n",
              "\n",
              "    [theme=dark] .colab-df-convert:hover {\n",
              "      background-color: #434B5C;\n",
              "      box-shadow: 0px 1px 3px 1px rgba(0, 0, 0, 0.15);\n",
              "      filter: drop-shadow(0px 1px 2px rgba(0, 0, 0, 0.3));\n",
              "      fill: #FFFFFF;\n",
              "    }\n",
              "  </style>\n",
              "\n",
              "      <script>\n",
              "        const buttonEl =\n",
              "          document.querySelector('#df-76a4f3fd-4d86-4eeb-aab0-a275d31384f2 button.colab-df-convert');\n",
              "        buttonEl.style.display =\n",
              "          google.colab.kernel.accessAllowed ? 'block' : 'none';\n",
              "\n",
              "        async function convertToInteractive(key) {\n",
              "          const element = document.querySelector('#df-76a4f3fd-4d86-4eeb-aab0-a275d31384f2');\n",
              "          const dataTable =\n",
              "            await google.colab.kernel.invokeFunction('convertToInteractive',\n",
              "                                                     [key], {});\n",
              "          if (!dataTable) return;\n",
              "\n",
              "          const docLinkHtml = 'Like what you see? Visit the ' +\n",
              "            '<a target=\"_blank\" href=https://colab.research.google.com/notebooks/data_table.ipynb>data table notebook</a>'\n",
              "            + ' to learn more about interactive tables.';\n",
              "          element.innerHTML = '';\n",
              "          dataTable['output_type'] = 'display_data';\n",
              "          await google.colab.output.renderOutput(dataTable, element);\n",
              "          const docLink = document.createElement('div');\n",
              "          docLink.innerHTML = docLinkHtml;\n",
              "          element.appendChild(docLink);\n",
              "        }\n",
              "      </script>\n",
              "    </div>\n",
              "  </div>\n",
              "  "
            ]
          },
          "metadata": {},
          "execution_count": 21
        }
      ]
    },
    {
      "cell_type": "code",
      "source": [
        "\n",
        "#assigning new columns which contains the betweennes centraliry of the each actors exists in the each line\n",
        "# firstStarBet,secondStarBet,thirdStarBet=[],[],[]\n",
        "# for i in range(len(df)):\n",
        "#     firstStarBet.append(betCent[df.firstStar[i]])\n",
        "#     secondStarBet.append(betCent[df.secondStar[i]])\n",
        "#     thirdStarBet.append(betCent[df.thirdStar[i]])\n",
        "# \n",
        "# df=df.assign(firstStarDegBet=firstStarBet,secondStarDegBet=secondStarBet,thirdStarBet=thirdStarBet)\n",
        "# \n",
        "# \n",
        "# #assigning new columns which contains the closeness centraliry of the each actors exists in the each line\n",
        "# \n",
        "# firstStarClose,secondStarClose,thirdStarClose=[],[],[]\n",
        "# for i in range(len(df)):\n",
        "#     firstStarClose.append(closeCent[df.firstStar[i]])\n",
        "#     secondStarClose.append(closeCent[df.secondStar[i]])\n",
        "#     thirdStarClose.append(closeCent[df.thirdStar[i]])\n",
        "# \n",
        "# data=df.assign(firstStarClose=firstStarClose,secondStarClose=secondStarClose,thirdStarClose=thirdStarClose)"
      ],
      "metadata": {
        "id": "-LWNY-VNWVwf"
      },
      "execution_count": null,
      "outputs": []
    },
    {
      "cell_type": "code",
      "source": [
        "# sorting closeness centrality results\n",
        "#sortCloseCent = {k: v for k, v in sorted(closeCent.items(), key=lambda item: item[1])}\n",
        "#printing the top three actors according to the closeness centrality\n",
        "#for i in range(3):\n",
        "#  print(sortCloseCent[i])\n",
        "# sorting betweenness centrality results\n",
        "#sortBetCent = {k: v for k, v in sorted(betCent.items(), key=lambda item: item[1])}\n",
        "#printing the top three actors according to the betweenness centrality\n",
        "#for i in range(3):\n",
        "#  print(sortBetCent[i])"
      ],
      "metadata": {
        "id": "ALkOvDieUt_q"
      },
      "execution_count": null,
      "outputs": []
    },
    {
      "cell_type": "code",
      "source": [
        "from scipy.stats.morestats import sort\n",
        "# sorting degree centrality results\n",
        "sortDegCent = {k: v for k, v in sorted(degreeCent.items(), key=lambda item: item[1])}\n",
        "j=1\n",
        "#printing the top three actors according to the degree centrality\n",
        "for i,k in sortDegCent.items():\n",
        "  if j<4:\n",
        "    print(i,k)\n",
        "  j+=1\n"
      ],
      "metadata": {
        "id": "FFs-FiLnDDsa",
        "colab": {
          "base_uri": "https://localhost:8080/"
        },
        "outputId": "e0c6c0b5-53bf-401d-ebaa-5a92bdd2906e"
      },
      "execution_count": null,
      "outputs": [
        {
          "output_type": "stream",
          "name": "stdout",
          "text": [
            "Darleen Asevedo 2.1721186845649247e-05\n",
            "Reikichi Kawamura 2.1721186845649247e-05\n",
            "Hattie 2.1721186845649247e-05\n"
          ]
        }
      ]
    },
    {
      "cell_type": "code",
      "source": [
        "# Darleen Asevedo,Reikichi Kawamura and Hattie are top actors according to degree centrality\n",
        "interestedStars = [\"Darleen Asevedo\", \"Reikichi Kawamura\",\"Hattie\"]  \n",
        "\n",
        "# This function returns a subgraph of the `final network` with only the `interestedStars` and their neighbors.\n",
        "def getStarsAndNeighbors(finalNetwork, interestedStars):\n",
        "\n",
        "    starsToDraw = []\n",
        "    \n",
        "    # Iterate over the interestedStars\n",
        "    for star in interestedStars:\n",
        "    \n",
        "        # Append the interestedStars to nodesToDraw\n",
        "        starsToDraw.append(star)\n",
        "        \n",
        "        # Iterate over all the neighbors of star\n",
        "        for nbr in finalNetwork.neighbors(star):\n",
        "        \n",
        "            # Append the neighbors of star to nodesToDraw\n",
        "            starsToDraw.append(nbr)\n",
        "            \n",
        "    return finalNetwork.subgraph(starsToDraw)\n",
        "\n",
        "# Extract the subgraph with the interestedStars\n",
        "plotSubgraph = getStarsAndNeighbors(G, interestedStars)\n",
        "\n",
        "# Draw the subgraph to the screen\n",
        "nx.draw(plotSubgraph,with_labels=True)\n",
        "plt.savefig(\"SubGraphOfNicolasCage.png\", format=\"PNG\")\n",
        "plt.show()"
      ],
      "metadata": {
        "id": "5L3UibNgDnte"
      },
      "execution_count": null,
      "outputs": []
    },
    {
      "cell_type": "code",
      "source": [
        "from scipy.stats import spearmanr\n",
        "targetValues = ['revenue']\n",
        "df=df.drop([\"id\",\"cast\",\"firstStar\",\"secondStar\",\"thirdStar\"],axis=1)\n",
        "columnsWithoutTarget = [column for column in df if column not in targetValues]\n",
        "dfCorrelations = {}\n",
        "for targetValue in targetValues:\n",
        "    for column in columnsWithoutTarget:\n",
        "        rho,p_value = spearmanr(df[column],df[targetValue])\n",
        "        if p_value < 0.05 :\n",
        "            print(\"correlation coefficient is : {} and p-value is : {}\".format(rho,p_value))\n",
        "            print(\"{} has statistically significance correlation with {} : rejected null hypothesis\".format(column,targetValue))\n",
        "            print(\"\\n\")\n",
        "            print(\"------------------******************------------------------\")\n",
        "            dfCorrelations[targetValue + \" :\" + column] =[rho,p_value]\n",
        "        else:\n",
        "            print(\"correlation coefficient is : {} and p-value is : {}\".format(rho,p_value))\n",
        "            print(\"{} has not statistically significance correlation with {} : not rejected null hypothesis \".format(column,targetValue))\n",
        "            print(\"\\n\")\n",
        "            print(\"------------------******************------------------------\")\n",
        "            dfCorrelations[targetValue +  \" :\" + column] =[rho,p_value]"
      ],
      "metadata": {
        "id": "gSjxpnLXDDvB",
        "colab": {
          "base_uri": "https://localhost:8080/"
        },
        "outputId": "8905fd73-ba19-4879-b431-4dae9b545c5b"
      },
      "execution_count": null,
      "outputs": [
        {
          "output_type": "stream",
          "name": "stdout",
          "text": [
            "correlation coefficient is : -0.013590997966734344 and p-value is : 0.006001901681729046\n",
            "original_title has statistically significance correlation with revenue : rejected null hypothesis\n",
            "\n",
            "\n",
            "------------------******************------------------------\n",
            "correlation coefficient is : 0.2531989404572362 and p-value is : 0.0\n",
            "firstStarDegCent has statistically significance correlation with revenue : rejected null hypothesis\n",
            "\n",
            "\n",
            "------------------******************------------------------\n",
            "correlation coefficient is : 0.2617466268265079 and p-value is : 0.0\n",
            "secondStarDegCent has statistically significance correlation with revenue : rejected null hypothesis\n",
            "\n",
            "\n",
            "------------------******************------------------------\n",
            "correlation coefficient is : 0.2578159084744823 and p-value is : 0.0\n",
            "thirdStarDegCent has statistically significance correlation with revenue : rejected null hypothesis\n",
            "\n",
            "\n",
            "------------------******************------------------------\n"
          ]
        }
      ]
    },
    {
      "cell_type": "markdown",
      "source": [
        "Our findings indicate a strong relationship between the degree centralities of movie stars and the box office revenue of the films they star in. This correlation suggests that the popularity and influence of a movie's lead actors play a significant role in determining the financial success of a film. This highlights the importance of casting well-known and highly connected stars in the film industry. These results provide valuable insight for film producers and investors, as they can use this information to make informed decisions about casting and marketing strategies.Moreover, the results of this correlation analysis can be used to predict the potential box office revenue of a movie based on the degree centralities of its lead actors. By understanding the relationship between star power and box office success, film producers can make more strategic decisions about which actors to cast, and how to market their films to maximize revenue. Furthermore, these findings can also be used to guide talent management and representation, as they demonstrate the value of investing in and promoting actors with high degree centralities. In conclusion, the significant correlation between degree centralities of stars and movie box office revenue provides a valuable tool for decision making in the film industry."
      ],
      "metadata": {
        "id": "gr8NjEwNKXRa"
      }
    }
  ]
}